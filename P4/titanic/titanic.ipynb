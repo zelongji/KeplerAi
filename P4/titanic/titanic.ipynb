{
 "cells": [
  {
   "cell_type": "markdown",
   "metadata": {},
   "source": [
    "## 机器学习P4 探索数据集项目——《泰坦尼克号生还探测》"
   ]
  },
  {
   "cell_type": "markdown",
   "metadata": {},
   "source": [
    "### 数据集选择\n",
    "    泰坦尼克号数据：包括泰坦尼克号上 2224 名乘客和船员中 891 名的人口学数据和乘客基本信息。数据集来自Kaggle。"
   ]
  },
  {
   "cell_type": "markdown",
   "metadata": {},
   "source": [
    "### 探索问题\n",
    "\n",
    "    1.探索不同性别的存活率\n",
    "    2.探索不同年龄段的存活率\n",
    "    3.探索不同仓位的存活率\n",
    "    4.探索不同票价的存活率\n",
    "    5.探索不同登船港口的存活率"
   ]
  },
  {
   "cell_type": "markdown",
   "metadata": {},
   "source": [
    "### 数据导入+清洗"
   ]
  },
  {
   "cell_type": "code",
   "execution_count": 143,
   "metadata": {},
   "outputs": [],
   "source": [
    "# 引入所需要的类库\n",
    "import numpy as np\n",
    "import pandas as pd\n",
    "import matplotlib.pyplot as plt\n",
    "import seaborn as sns\n",
    "\n",
    "%matplotlib inline"
   ]
  },
  {
   "cell_type": "code",
   "execution_count": 144,
   "metadata": {},
   "outputs": [
    {
     "name": "stdout",
     "output_type": "stream",
     "text": [
      "<class 'pandas.core.frame.DataFrame'>\n",
      "RangeIndex: 891 entries, 0 to 890\n",
      "Data columns (total 12 columns):\n",
      "PassengerId    891 non-null int64\n",
      "Survived       891 non-null int64\n",
      "Pclass         891 non-null int64\n",
      "Name           891 non-null object\n",
      "Sex            891 non-null object\n",
      "Age            714 non-null float64\n",
      "SibSp          891 non-null int64\n",
      "Parch          891 non-null int64\n",
      "Ticket         891 non-null object\n",
      "Fare           891 non-null float64\n",
      "Cabin          204 non-null object\n",
      "Embarked       889 non-null object\n",
      "dtypes: float64(2), int64(5), object(5)\n",
      "memory usage: 83.6+ KB\n"
     ]
    }
   ],
   "source": [
    "# 导入数据\n",
    "titanic_df = pd.read_csv('./titanic-data.csv')\n",
    "# 了解数据情况\n",
    "titanic_df.info()"
   ]
  },
  {
   "cell_type": "markdown",
   "metadata": {},
   "source": [
    "分析数据：从以上数据可以看出字段Age、Cabin都有NaN的情况，下一步删除NaN的记录"
   ]
  },
  {
   "cell_type": "code",
   "execution_count": 145,
   "metadata": {},
   "outputs": [],
   "source": [
    "# 为了提升效率，删除不相关字段\n",
    "non_titanic_df = titanic_df.drop(['PassengerId','Name','SibSp','Parch','Ticket','Cabin'], axis = 1)"
   ]
  },
  {
   "cell_type": "code",
   "execution_count": 146,
   "metadata": {},
   "outputs": [],
   "source": [
    "# 通用函数,删除data中指定字段的NaN的记录\n",
    "def clean_data_nan(data, subset):\n",
    "    return data.dropna(subset = subset)"
   ]
  },
  {
   "cell_type": "code",
   "execution_count": 147,
   "metadata": {},
   "outputs": [
    {
     "name": "stdout",
     "output_type": "stream",
     "text": [
      "714\n",
      "889\n"
     ]
    }
   ],
   "source": [
    "# 清除对应字段的NaN记录\n",
    "titanic_age_survived = clean_data_nan(non_titanic_df, ['Survived','Age'])\n",
    "titanic_embarked_survived = clean_data_nan(non_titanic_df, ['Survived','Embarked'])\n",
    "\n",
    "print len(titanic_age_survived)\n",
    "print len(titanic_embarked_survived)"
   ]
  },
  {
   "cell_type": "code",
   "execution_count": 148,
   "metadata": {},
   "outputs": [
    {
     "data": {
      "text/html": [
       "<div>\n",
       "<style scoped>\n",
       "    .dataframe tbody tr th:only-of-type {\n",
       "        vertical-align: middle;\n",
       "    }\n",
       "\n",
       "    .dataframe tbody tr th {\n",
       "        vertical-align: top;\n",
       "    }\n",
       "\n",
       "    .dataframe thead th {\n",
       "        text-align: right;\n",
       "    }\n",
       "</style>\n",
       "<table border=\"1\" class=\"dataframe\">\n",
       "  <thead>\n",
       "    <tr style=\"text-align: right;\">\n",
       "      <th></th>\n",
       "      <th>Survived</th>\n",
       "      <th>Pclass</th>\n",
       "      <th>Age</th>\n",
       "      <th>Fare</th>\n",
       "    </tr>\n",
       "  </thead>\n",
       "  <tbody>\n",
       "    <tr>\n",
       "      <th>count</th>\n",
       "      <td>891.000000</td>\n",
       "      <td>891.000000</td>\n",
       "      <td>714.000000</td>\n",
       "      <td>891.000000</td>\n",
       "    </tr>\n",
       "    <tr>\n",
       "      <th>mean</th>\n",
       "      <td>0.383838</td>\n",
       "      <td>2.308642</td>\n",
       "      <td>29.699118</td>\n",
       "      <td>32.204208</td>\n",
       "    </tr>\n",
       "    <tr>\n",
       "      <th>std</th>\n",
       "      <td>0.486592</td>\n",
       "      <td>0.836071</td>\n",
       "      <td>14.526497</td>\n",
       "      <td>49.693429</td>\n",
       "    </tr>\n",
       "    <tr>\n",
       "      <th>min</th>\n",
       "      <td>0.000000</td>\n",
       "      <td>1.000000</td>\n",
       "      <td>0.420000</td>\n",
       "      <td>0.000000</td>\n",
       "    </tr>\n",
       "    <tr>\n",
       "      <th>25%</th>\n",
       "      <td>0.000000</td>\n",
       "      <td>2.000000</td>\n",
       "      <td>20.125000</td>\n",
       "      <td>7.910400</td>\n",
       "    </tr>\n",
       "    <tr>\n",
       "      <th>50%</th>\n",
       "      <td>0.000000</td>\n",
       "      <td>3.000000</td>\n",
       "      <td>28.000000</td>\n",
       "      <td>14.454200</td>\n",
       "    </tr>\n",
       "    <tr>\n",
       "      <th>75%</th>\n",
       "      <td>1.000000</td>\n",
       "      <td>3.000000</td>\n",
       "      <td>38.000000</td>\n",
       "      <td>31.000000</td>\n",
       "    </tr>\n",
       "    <tr>\n",
       "      <th>max</th>\n",
       "      <td>1.000000</td>\n",
       "      <td>3.000000</td>\n",
       "      <td>80.000000</td>\n",
       "      <td>512.329200</td>\n",
       "    </tr>\n",
       "  </tbody>\n",
       "</table>\n",
       "</div>"
      ],
      "text/plain": [
       "         Survived      Pclass         Age        Fare\n",
       "count  891.000000  891.000000  714.000000  891.000000\n",
       "mean     0.383838    2.308642   29.699118   32.204208\n",
       "std      0.486592    0.836071   14.526497   49.693429\n",
       "min      0.000000    1.000000    0.420000    0.000000\n",
       "25%      0.000000    2.000000   20.125000    7.910400\n",
       "50%      0.000000    3.000000   28.000000   14.454200\n",
       "75%      1.000000    3.000000   38.000000   31.000000\n",
       "max      1.000000    3.000000   80.000000  512.329200"
      ]
     },
     "execution_count": 148,
     "metadata": {},
     "output_type": "execute_result"
    }
   ],
   "source": [
    "non_titanic_df.describe()"
   ]
  },
  {
   "cell_type": "markdown",
   "metadata": {},
   "source": [
    "从以上信息可以看出,平均生还率约38%"
   ]
  },
  {
   "cell_type": "markdown",
   "metadata": {},
   "source": [
    "### 数据分析, 函数实现"
   ]
  },
  {
   "cell_type": "code",
   "execution_count": 149,
   "metadata": {},
   "outputs": [],
   "source": [
    "# 通用函数，判断指定因素对存活率的影响\n",
    "def influence(data,element):\n",
    "    # 判断**对存活率的影响\n",
    "    groupby_element = data.groupby(element)\n",
    "    total_groupby_element = groupby_element.count()\n",
    "    survived_groupby_element = groupby_element.sum()\n",
    "\n",
    "    # **的生还人数\n",
    "    print(\"生还人数\")\n",
    "    print(survived_groupby_element)\n",
    "    # **的总人数\n",
    "    print(\"总人数\")\n",
    "    print(total_groupby_element)\n",
    "    # **的生还率\n",
    "    print(\"生还率\")\n",
    "    survived_rate_element = survived_groupby_element / total_groupby_element\n",
    "    print(survived_rate_element)\n",
    "    # 直方图**的生还率\n",
    "    survived_rate_element.plot(kind='bar')\n",
    "    plt.title(element + 'Survival rate')\n",
    "    plt.xlabel(element)\n",
    "    plt.ylabel('survived')\n",
    "    plt.show()"
   ]
  },
  {
   "cell_type": "code",
   "execution_count": 150,
   "metadata": {},
   "outputs": [],
   "source": [
    "# 通用分组\n",
    "def cla(n, lim):\n",
    "    if n == 0:\n",
    "        return 'unknown'\n",
    "    return '[%d, %d)' % (lim * (n // lim), lim * (n // lim) + lim)\n",
    "\n",
    "# 通用函数, 判断指定因素, 指定区间对存活率的影响\n",
    "def section_influence(data, element, lim):\n",
    "\n",
    "    section_group = pd.DataFrame({\n",
    "        'element_group': [cla(section, lim) for section in data[element]]\n",
    "    })\n",
    "\n",
    "    groupby_section = pd.concat([data['Survived'], section_group], axis=1)\n",
    "\n",
    "    groupby_element = groupby_section.groupby('element_group')\n",
    "    total_groupby_element = groupby_element.count()\n",
    "    survived_groupby_element = groupby_element.sum()\n",
    "\n",
    "    # 分组的生还人数\n",
    "    print(survived_groupby_element)\n",
    "    # 分组的总人数\n",
    "    print(total_groupby_element)\n",
    "    # 分组的生还率\n",
    "    survived_rate_element = survived_groupby_element / total_groupby_element\n",
    "    print(survived_rate_element)\n",
    "    # 直方图分组的生还率\n",
    "    survived_rate_element.plot(kind='bar')\n",
    "    plt.title(element + 'Survival rate')\n",
    "    plt.xlabel(element)\n",
    "    plt.ylabel('survived')\n",
    "    survived_rate_element.plot(kind='pie',subplots=True)\n",
    "    plt.show()"
   ]
  },
  {
   "cell_type": "code",
   "execution_count": 151,
   "metadata": {},
   "outputs": [
    {
     "name": "stdout",
     "output_type": "stream",
     "text": [
      "生还人数\n",
      "        Survived  Pclass       Age        Fare\n",
      "Sex                                           \n",
      "female       233     678   7286.00  13966.6628\n",
      "male         109    1379  13919.17  14727.2865\n",
      "总人数\n",
      "        Survived  Pclass  Age  Fare  Embarked\n",
      "Sex                                          \n",
      "female       314     314  261   314       312\n",
      "male         577     577  453   577       577\n",
      "生还率\n",
      "              Age  Embarked       Fare    Pclass  Survived\n",
      "Sex                                                       \n",
      "female  27.915709       NaN  44.479818  2.159236  0.742038\n",
      "male    30.726645       NaN  25.523893  2.389948  0.188908\n"
     ]
    },
    {
     "data": {
      "image/png": "[encoded data removed]",
      "text/plain": [
       "<Figure size 432x288 with 1 Axes>"
      ]
     },
     "metadata": {},
     "output_type": "display_data"
    }
   ],
   "source": [
    "# 性别对存活率的影响\n",
    "influence(non_titanic_df, 'Sex')"
   ]
  },
  {
   "cell_type": "markdown",
   "metadata": {},
   "source": [
    "分析结果：女性的存活率较高约为74%"
   ]
  },
  {
   "cell_type": "code",
   "execution_count": 152,
   "metadata": {},
   "outputs": [
    {
     "name": "stdout",
     "output_type": "stream",
     "text": [
      "               Survived\n",
      "element_group          \n",
      "[0, 20)            49.0\n",
      "[20, 40)          137.0\n",
      "[40, 60)           39.0\n",
      "[60, 80)            7.0\n",
      "[80, 100)           0.0\n",
      "               Survived\n",
      "element_group          \n",
      "[0, 20)             135\n",
      "[20, 40)            305\n",
      "[40, 60)            104\n",
      "[60, 80)             22\n",
      "[80, 100)             1\n",
      "               Survived\n",
      "element_group          \n",
      "[0, 20)        0.362963\n",
      "[20, 40)       0.449180\n",
      "[40, 60)       0.375000\n",
      "[60, 80)       0.318182\n",
      "[80, 100)      0.000000\n"
     ]
    },
    {
     "data": {
      "image/png": "[encoded data removed]",
      "text/plain": [
       "<Figure size 432x288 with 1 Axes>"
      ]
     },
     "metadata": {},
     "output_type": "display_data"
    },
    {
     "data": {
      "image/png": "[encoded data removed]",
      "text/plain": [
       "<Figure size 432x288 with 1 Axes>"
      ]
     },
     "metadata": {},
     "output_type": "display_data"
    }
   ],
   "source": [
    "# 年龄对存活率的影响\n",
    "section_influence(titanic_age_survived, 'Age', 20)"
   ]
  },
  {
   "cell_type": "markdown",
   "metadata": {},
   "source": [
    "分析结果：年龄段在20～40岁之间的存活率较高"
   ]
  },
  {
   "cell_type": "code",
   "execution_count": 153,
   "metadata": {},
   "outputs": [
    {
     "name": "stdout",
     "output_type": "stream",
     "text": [
      "生还人数\n",
      "        Survived      Age        Fare\n",
      "Pclass                               \n",
      "1            136  7111.42  18177.4125\n",
      "2             87  5168.83   3801.8417\n",
      "3            119  8924.92   6714.6951\n",
      "总人数\n",
      "        Survived  Sex  Age  Fare  Embarked\n",
      "Pclass                                    \n",
      "1            216  216  186   216       214\n",
      "2            184  184  173   184       184\n",
      "3            491  491  355   491       491\n",
      "生还率\n",
      "              Age  Embarked       Fare  Sex  Survived\n",
      "Pclass                                               \n",
      "1       38.233441       NaN  84.154687  NaN  0.629630\n",
      "2       29.877630       NaN  20.662183  NaN  0.472826\n",
      "3       25.140620       NaN  13.675550  NaN  0.242363\n"
     ]
    },
    {
     "data": {
      "image/png": "[encoded data removed]",
      "text/plain": [
       "<Figure size 432x288 with 1 Axes>"
      ]
     },
     "metadata": {},
     "output_type": "display_data"
    }
   ],
   "source": [
    "# 仓位对存活率的影响\n",
    "influence(non_titanic_df, 'Pclass')"
   ]
  },
  {
   "cell_type": "markdown",
   "metadata": {},
   "source": [
    "分析结果：客舱级别为1的存活率较高约为63%"
   ]
  },
  {
   "cell_type": "code",
   "execution_count": 154,
   "metadata": {},
   "outputs": [
    {
     "name": "stdout",
     "output_type": "stream",
     "text": [
      "               Survived\n",
      "element_group          \n",
      "[0, 100)          207.0\n",
      "[100, 200)         15.0\n",
      "[200, 300)          5.0\n",
      "[500, 600)          3.0\n",
      "unknown             2.0\n",
      "               Survived\n",
      "element_group          \n",
      "[0, 100)            526\n",
      "[100, 200)           23\n",
      "[200, 300)            9\n",
      "[500, 600)            3\n",
      "unknown               6\n",
      "               Survived\n",
      "element_group          \n",
      "[0, 100)       0.393536\n",
      "[100, 200)     0.652174\n",
      "[200, 300)     0.555556\n",
      "[500, 600)     1.000000\n",
      "unknown        0.333333\n"
     ]
    },
    {
     "data": {
      "image/png": "[encoded data removed]",
      "text/plain": [
       "<Figure size 432x288 with 1 Axes>"
      ]
     },
     "metadata": {},
     "output_type": "display_data"
    },
    {
     "data": {
      "image/png": "[encoded data removed]",
      "text/plain": [
       "<Figure size 432x288 with 1 Axes>"
      ]
     },
     "metadata": {},
     "output_type": "display_data"
    }
   ],
   "source": [
    "# 票价对存活率的影响\n",
    "section_influence(titanic_age_survived, 'Fare', 100)"
   ]
  },
  {
   "cell_type": "markdown",
   "metadata": {},
   "source": [
    "分析结果：票价在100～200之间的存活率较高约65%"
   ]
  },
  {
   "cell_type": "code",
   "execution_count": 155,
   "metadata": {},
   "outputs": [
    {
     "name": "stdout",
     "output_type": "stream",
     "text": [
      "生还人数\n",
      "          Survived  Pclass       Age        Fare\n",
      "Embarked                                        \n",
      "C               93     317   4005.92  10072.2962\n",
      "Q               30     224    786.50   1022.2543\n",
      "S              217    1514  16312.75  17439.3988\n",
      "总人数\n",
      "          Survived  Pclass  Sex  Age  Fare\n",
      "Embarked                                  \n",
      "C              168     168  168  130   168\n",
      "Q               77      77   77   28    77\n",
      "S              644     644  644  554   644\n",
      "生还率\n",
      "                Age       Fare    Pclass  Sex  Survived\n",
      "Embarked                                               \n",
      "C         30.814769  59.954144  1.886905  NaN  0.553571\n",
      "Q         28.089286  13.276030  2.909091  NaN  0.389610\n",
      "S         29.445397  27.079812  2.350932  NaN  0.336957\n"
     ]
    },
    {
     "data": {
      "image/png": "[encoded data removed]",
      "text/plain": [
       "<Figure size 432x288 with 1 Axes>"
      ]
     },
     "metadata": {},
     "output_type": "display_data"
    }
   ],
   "source": [
    "# 登船港口对存活率的影响\n",
    "influence(titanic_embarked_survived, 'Embarked')"
   ]
  },
  {
   "cell_type": "markdown",
   "metadata": {},
   "source": [
    "分析结果：登船港口为C的生还率较高约55%"
   ]
  },
  {
   "cell_type": "markdown",
   "metadata": {},
   "source": [
    "### 结论\n",
    "    泰坦尼克号的总人数大概有2200多,乘客有1300多,样本中的900左右数据量虽然不是全部人员的数据,但是就乘客而言样本数量所占比例已然接近70%,根据我们分析的结果显示舱位等级和性别对存活率有较大的影响,由于数据不完整且有缺失,分析结果并不一定正确,这种结果只是代表一个较大概率的可能性. \n",
    "    除了样本所提供的因素,其他因素已知或者未知对于存活率的影响也是无法忽视,其中我认为泰坦尼克号上的800多工作人员对存活率的影响是非常大的,工作人员的行为显然可以很大程度引导乘客,目前这方面数据完全空缺,所以不能保证我们的结果是完全正确的."
   ]
  },
  {
   "cell_type": "code",
   "execution_count": null,
   "metadata": {},
   "outputs": [],
   "source": []
  }
 ],
 "metadata": {
  "kernelspec": {
   "display_name": "Python 2",
   "language": "python",
   "name": "python2"
  },
  "language_info": {
   "codemirror_mode": {
    "name": "ipython",
    "version": 2
   },
   "file_extension": ".py",
   "mimetype": "text/x-python",
   "name": "python",
   "nbconvert_exporter": "python",
   "pygments_lexer": "ipython2",
   "version": "2.7.14"
  }
 },
 "nbformat": 4,
 "nbformat_minor": 2
}
